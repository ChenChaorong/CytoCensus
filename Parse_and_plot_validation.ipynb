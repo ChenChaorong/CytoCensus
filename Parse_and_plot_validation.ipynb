{
 "cells": [
  {
   "cell_type": "code",
   "execution_count": 1,
   "metadata": {
    "collapsed": false
   },
   "outputs": [
    {
     "name": "stdout",
     "output_type": "stream",
     "text": [
      "Populating the interactive namespace from numpy and matplotlib\n"
     ]
    },
    {
     "data": {
      "text/plain": [
       "[u'seaborn-darkgrid',\n",
       " u'seaborn-notebook',\n",
       " u'classic',\n",
       " u'seaborn-ticks',\n",
       " u'grayscale',\n",
       " u'bmh',\n",
       " u'seaborn-talk',\n",
       " u'dark_background',\n",
       " u'ggplot',\n",
       " u'fivethirtyeight',\n",
       " u'seaborn-colorblind',\n",
       " u'seaborn-deep',\n",
       " u'seaborn-whitegrid',\n",
       " u'seaborn-bright',\n",
       " u'seaborn-poster',\n",
       " u'seaborn-muted',\n",
       " u'seaborn-paper',\n",
       " u'seaborn-white',\n",
       " u'seaborn-pastel',\n",
       " u'seaborn-dark',\n",
       " u'seaborn-dark-palette']"
      ]
     },
     "execution_count": 1,
     "metadata": {},
     "output_type": "execute_result"
    }
   ],
   "source": [
    "import csv\n",
    "import numpy as np\n",
    "import matplotlib.pyplot as plt\n",
    "import cPickle as pickle\n",
    "%pylab inline\n",
    "plt.style.available"
   ]
  },
  {
   "cell_type": "code",
   "execution_count": 12,
   "metadata": {
    "collapsed": false,
    "scrolled": false
   },
   "outputs": [
    {
     "name": "stdout",
     "output_type": "stream",
     "text": [
      "['TP', 'FP', 'FN', 'time_pt', 'rel_thr', 'training', 'file_no']\n",
      "seaborn-poster\n"
     ]
    },
    {
     "data": {
      "image/png": "[encoded data removed]",
      "text/plain": [
       "<matplotlib.figure.Figure at 0x11273d190>"
      ]
     },
     "metadata": {},
     "output_type": "display_data"
    }
   ],
   "source": [
    "path = '/Users/martin/Pictures/Live_mdf/'\n",
    "#path = '/Users/martin/Pictures/ground-truths/'\n",
    "csvPath = path+\"out/\"\n",
    "X={}\n",
    "filename='outputData_latest_firstTP_Training_full.csv'\n",
    "filename='outputData.csv'\n",
    "\n",
    "with open(csvPath+filename, 'rb') as csvfile:\n",
    "    spamreader = csv.reader(csvfile,  dialect='excel')\n",
    "    for row in spamreader:\n",
    "        if row[0]=='TP':\n",
    "            print row\n",
    "            pass\n",
    "        else:\n",
    "            row=[float(x) for x in row]\n",
    "            TPFPFN=np.array(row[0:3])\n",
    "            tpt = row[3]\n",
    "            thr = row[4]\n",
    "            training = row[5]\n",
    "            fileno = row[6]\n",
    "            repeats = row[7]\n",
    "            #print row[0:3]\n",
    "            #decide order (average over all but first two dimesion later)\n",
    "            ref = [training,thr,tpt,fileno,repeats]\n",
    "            if ref[0] not in X:\n",
    "                X[ref[0]]={}\n",
    "            if ref[1] not in X[ref[0]]:\n",
    "                X[ref[0]][ref[1]]={}\n",
    "            if ref[2] not in X[ref[0]][ref[1]]:\n",
    "                X[ref[0]][ref[1]][ref[2]]={}\n",
    "            if ref[3] not in X[ref[0]][ref[1]][ref[2]]:\n",
    "                X[ref[0]][ref[1]][ref[2]][ref[3]]={}\n",
    "            if row[7] not in X[ref[0]][ref[1]][ref[2]][ref[3]]:\n",
    "                X[ref[0]][ref[1]][ref[2]][ref[3]][ref[4]]=TPFPFN\n",
    "    #go through and average over various groups\n",
    "st_counter=14\n",
    "styles=plt.style.available\n",
    "#\n",
    "plt.style.use(styles[st_counter])\n",
    "#matplotlib.rcParams['lines.markersize']=10\n",
    "print(styles[st_counter])\n",
    "st_counter+=1\n",
    "\n",
    "figure(figsize=(5,5.5))\n",
    "training_keys=sort(X.keys())\n",
    "color=(0.9,0.1,0.1)\n",
    "col_count=float(10)\n",
    "F1max=[]\n",
    "F1err=[]\n",
    "for training in training_keys:\n",
    "    col_count=col_count-1\n",
    "    if training >1000:\n",
    "        break\n",
    "    P=[]\n",
    "    R=[]\n",
    "    F1=[]\n",
    "    thr_keys=sort(X[training].keys())\n",
    "    \n",
    "    for thr in thr_keys[::1]:\n",
    "        count=0\n",
    "        f=[]\n",
    "        acc=np.zeros((3))\n",
    "        for x1 in X[training][thr]:\n",
    "            \n",
    "            if x1==0 or x1==14:\n",
    "                pass\n",
    "            else:\n",
    "                facc=np.zeros((3))\n",
    "                for x2 in X[training][thr][x1]:\n",
    "                    for x3 in X[training][thr][x1][x2]:\n",
    "                        #if x1>4:\n",
    "                            acc+=X[training][thr][x1][x2][x3]\n",
    "                            facc+=X[training][thr][x1][x2][x3]\n",
    "                            count+=1\n",
    "                p=facc[0]/(facc[0]+facc[1]+0.000000001)\n",
    "                r=facc[0]/(facc[0]+facc[2]+0.000000001)\n",
    "                f1=2*p*r/(r+p)\n",
    "                f.append(f1)\n",
    "                \n",
    "        acc=acc/count\n",
    "        X[training][thr]=acc\n",
    "        TP=acc[0]\n",
    "        FP=acc[1]\n",
    "        TN=acc[2]\n",
    "\n",
    "        precision=TP/(TP+FP+0.000000001)\n",
    "        recall=TP/(TP+TN+0.00000000001)\n",
    "        \n",
    "        \n",
    "        F1.append([np.mean(f),np.std(f)])\n",
    "        \n",
    "        P.append(precision)\n",
    "        R.append(recall)\n",
    "    F1max.append(F1[5][0])\n",
    "    F1err.append(F1[5][1])\n",
    "    #print (P,R)\n",
    "    color=tuple([col_count/10,color[1],col_count/10])\n",
    "    h = plot(R, P,'x-',color=color)\n",
    "    \n",
    "    #print str(training)\n",
    "    h[0].set_label(str(training))\n",
    "    #legend(str(training))\n",
    "    axis((0,1,0,1))\n",
    "    legend(bbox_to_anchor=(1.35, 1.00))\n",
    "savefig(path+'figure.png',bbox_inches='tight')\n",
    "    \n"
   ]
  },
  {
   "cell_type": "code",
   "execution_count": 6,
   "metadata": {
    "collapsed": false
   },
   "outputs": [
    {
     "data": {
      "text/plain": [
       "[0.42857142855612251,\n",
       " 0.47272727271008264,\n",
       " 0.4905660377173372,\n",
       " 0.33333333331944448,\n",
       " 0.51851851849931407,\n",
       " 0.51851851849931407,\n",
       " 0.4615384615207101,\n",
       " 0.44444444442798359,\n",
       " 0.46808510636306022]"
      ]
     },
     "execution_count": 6,
     "metadata": {},
     "output_type": "execute_result"
    }
   ],
   "source": [
    "f"
   ]
  },
  {
   "cell_type": "code",
   "execution_count": 11,
   "metadata": {
    "collapsed": false
   },
   "outputs": [
    {
     "data": {
      "image/png": "[encoded data removed]",
      "text/plain": [
       "<matplotlib.figure.Figure at 0x113044610>"
      ]
     },
     "metadata": {},
     "output_type": "display_data"
    }
   ],
   "source": [
    "width = 0.9\n",
    "ind=range(len(F1max))\n",
    "axis((0,5.9,0,1))\n",
    "a=bar(ind,F1max,width=width,color=tuple([col_count/10,color[1],col_count/10]),yerr=F1err,ecolor=[0,0,0])\n",
    "\n",
    "ax=gca()\n",
    "q=a.errorbar\n",
    "ax.set_xticklabels(training_keys)\n",
    "ax.set_xticks(np.array(ind)+ width / 2)\n",
    "\n",
    "savefig(path+'errorplot.png',bbox_inches='tight')\n"
   ]
  },
  {
   "cell_type": "code",
   "execution_count": null,
   "metadata": {
    "collapsed": false
   },
   "outputs": [],
   "source": []
  },
  {
   "cell_type": "code",
   "execution_count": null,
   "metadata": {
    "collapsed": true
   },
   "outputs": [],
   "source": []
  },
  {
   "cell_type": "code",
   "execution_count": 78,
   "metadata": {
    "collapsed": false
   },
   "outputs": [
    {
     "data": {
      "image/png": "[encoded data removed]",
      "text/plain": [
       "<matplotlib.figure.Figure at 0x11306dbd0>"
      ]
     },
     "metadata": {},
     "output_type": "display_data"
    }
   ],
   "source": [
    "figure(figsize=(5,5.5))\n",
    "training_keys=sort(X.keys())\n",
    "color=(0.9,0.1,0.1)\n",
    "col_count=float(10)\n",
    "for training in training_keys:\n",
    "    col_count=col_count-1\n",
    "    if training >1000:\n",
    "        break\n",
    "    P=[]\n",
    "    R=[]\n",
    "    thr_keys=sort(X[training].keys())\n",
    "    \n",
    "    for thr in thr_keys[::1]:\n",
    "        acc=X[training][thr]\n",
    "        TP=acc[0]\n",
    "        FP=acc[1]\n",
    "        TN=acc[2]\n",
    "        precision=TP/(TP+FP)\n",
    "        recall=TP/(TP+TN)\n",
    "        P.append(precision)\n",
    "        R.append(recall)\n",
    "    #print (P,R)\n",
    "    color=tuple([col_count/10,color[1],col_count/10])\n",
    "    h = plot(R, P,'x-',color=color)\n",
    "    #print str(training)\n",
    "    h[0].set_label(str(training))\n",
    "    #legend(str(training))\n",
    "    axis((0,1,0,1))\n",
    "    legend(bbox_to_anchor=(1.35, 1.00))\n",
    "with open(path+\"random_reference.pickle\",'rb') as r_file:\n",
    "    [R,P]=pickle.load(r_file)\n",
    "h = plot(R, P,'-',color=(0.5,0.5,0.5))\n",
    "h[0].set_label('random')\n",
    "axis((0,1,0,1))\n",
    "legend(bbox_to_anchor=(1.45, 1.00))\n",
    "savefig(path+'figure.png',bbox_inches='tight')"
   ]
  },
  {
   "cell_type": "code",
   "execution_count": 67,
   "metadata": {
    "collapsed": false
   },
   "outputs": [
    {
     "data": {
      "text/plain": [
       "14.846153846153847"
      ]
     },
     "execution_count": 67,
     "metadata": {},
     "output_type": "execute_result"
    }
   ],
   "source": [
    "x1"
   ]
  },
  {
   "cell_type": "code",
   "execution_count": 34,
   "metadata": {
    "collapsed": false
   },
   "outputs": [
    {
     "name": "stdout",
     "output_type": "stream",
     "text": [
      "Help on function legend in module matplotlib.pyplot:\n",
      "\n",
      "legend(*args, **kwargs)\n",
      "    Places a legend on the axes.\n",
      "    \n",
      "    To make a legend for lines which already exist on the axes\n",
      "    (via plot for instance), simply call this function with an iterable\n",
      "    of strings, one for each legend item. For example::\n",
      "    \n",
      "        ax.plot([1, 2, 3])\n",
      "        ax.legend(['A simple line'])\n",
      "    \n",
      "    However, in order to keep the \"label\" and the legend element\n",
      "    instance together, it is preferable to specify the label either at\n",
      "    artist creation, or by calling the\n",
      "    :meth:`~matplotlib.artist.Artist.set_label` method on the artist::\n",
      "    \n",
      "        line, = ax.plot([1, 2, 3], label='Inline label')\n",
      "        # Overwrite the label by calling the method.\n",
      "        line.set_label('Label via method')\n",
      "        ax.legend()\n",
      "    \n",
      "    Specific lines can be excluded from the automatic legend element\n",
      "    selection by defining a label starting with an underscore.\n",
      "    This is default for all artists, so calling :meth:`legend` without\n",
      "    any arguments and without setting the labels manually will result in\n",
      "    no legend being drawn.\n",
      "    \n",
      "    For full control of which artists have a legend entry, it is possible\n",
      "    to pass an iterable of legend artists followed by an iterable of\n",
      "    legend labels respectively::\n",
      "    \n",
      "       legend((line1, line2, line3), ('label1', 'label2', 'label3'))\n",
      "    \n",
      "    Parameters\n",
      "    ----------\n",
      "    loc : int or string or pair of floats, default: 'upper right'\n",
      "        The location of the legend. Possible codes are:\n",
      "    \n",
      "            ===============   =============\n",
      "            Location String   Location Code\n",
      "            ===============   =============\n",
      "            'best'            0\n",
      "            'upper right'     1\n",
      "            'upper left'      2\n",
      "            'lower left'      3\n",
      "            'lower right'     4\n",
      "            'right'           5\n",
      "            'center left'     6\n",
      "            'center right'    7\n",
      "            'lower center'    8\n",
      "            'upper center'    9\n",
      "            'center'          10\n",
      "            ===============   =============\n",
      "    \n",
      "    \n",
      "        Alternatively can be a 2-tuple giving ``x, y`` of the lower-left\n",
      "        corner of the legend in axes coordinates (in which case\n",
      "        ``bbox_to_anchor`` will be ignored).\n",
      "    \n",
      "    bbox_to_anchor : :class:`matplotlib.transforms.BboxBase` instance                          or tuple of floats\n",
      "        Specify any arbitrary location for the legend in `bbox_transform`\n",
      "        coordinates (default Axes coordinates).\n",
      "    \n",
      "        For example, to put the legend's upper right hand corner in the\n",
      "        center of the axes the following keywords can be used::\n",
      "    \n",
      "           loc='upper right', bbox_to_anchor=(0.5, 0.5)\n",
      "    \n",
      "    ncol : integer\n",
      "        The number of columns that the legend has. Default is 1.\n",
      "    \n",
      "    prop : None or :class:`matplotlib.font_manager.FontProperties` or dict\n",
      "        The font properties of the legend. If None (default), the current\n",
      "        :data:`matplotlib.rcParams` will be used.\n",
      "    \n",
      "    fontsize : int or float or {'xx-small', 'x-small', 'small', 'medium',                   'large', 'x-large', 'xx-large'}\n",
      "        Controls the font size of the legend. If the value is numeric the\n",
      "        size will be the absolute font size in points. String values are\n",
      "        relative to the current default font size. This argument is only\n",
      "        used if `prop` is not specified.\n",
      "    \n",
      "    numpoints : None or int\n",
      "        The number of marker points in the legend when creating a legend\n",
      "        entry for a line/:class:`matplotlib.lines.Line2D`.\n",
      "        Default is ``None`` which will take the value from the\n",
      "        ``legend.numpoints`` :data:`rcParam<matplotlib.rcParams>`.\n",
      "    \n",
      "    scatterpoints : None or int\n",
      "        The number of marker points in the legend when creating a legend\n",
      "        entry for a scatter plot/\n",
      "        :class:`matplotlib.collections.PathCollection`.\n",
      "        Default is ``None`` which will take the value from the\n",
      "        ``legend.scatterpoints`` :data:`rcParam<matplotlib.rcParams>`.\n",
      "    \n",
      "    scatteryoffsets : iterable of floats\n",
      "        The vertical offset (relative to the font size) for the markers\n",
      "        created for a scatter plot legend entry. 0.0 is at the base the\n",
      "        legend text, and 1.0 is at the top. To draw all markers at the\n",
      "        same height, set to ``[0.5]``. Default ``[0.375, 0.5, 0.3125]``.\n",
      "    \n",
      "    markerscale : None or int or float\n",
      "        The relative size of legend markers compared with the originally\n",
      "        drawn ones. Default is ``None`` which will take the value from\n",
      "        the ``legend.markerscale`` :data:`rcParam <matplotlib.rcParams>`.\n",
      "    \n",
      "    *markerfirst*: [ *True* | *False* ]\n",
      "        if *True*, legend marker is placed to the left of the legend label\n",
      "        if *False*, legend marker is placed to the right of the legend\n",
      "        label\n",
      "    \n",
      "    frameon : None or bool\n",
      "        Control whether a frame should be drawn around the legend.\n",
      "        Default is ``None`` which will take the value from the\n",
      "        ``legend.frameon`` :data:`rcParam<matplotlib.rcParams>`.\n",
      "    \n",
      "    fancybox : None or bool\n",
      "        Control whether round edges should be enabled around\n",
      "        the :class:`~matplotlib.patches.FancyBboxPatch` which\n",
      "        makes up the legend's background.\n",
      "        Default is ``None`` which will take the value from the\n",
      "        ``legend.fancybox`` :data:`rcParam<matplotlib.rcParams>`.\n",
      "    \n",
      "    shadow : None or bool\n",
      "        Control whether to draw a shadow behind the legend.\n",
      "        Default is ``None`` which will take the value from the\n",
      "        ``legend.shadow`` :data:`rcParam<matplotlib.rcParams>`.\n",
      "    \n",
      "    framealpha : None or float\n",
      "        Control the alpha transparency of the legend's frame.\n",
      "        Default is ``None`` which will take the value from the\n",
      "        ``legend.framealpha`` :data:`rcParam<matplotlib.rcParams>`.\n",
      "    \n",
      "    mode : {\"expand\", None}\n",
      "        If `mode` is set to ``\"expand\"`` the legend will be horizontally\n",
      "        expanded to fill the axes area (or `bbox_to_anchor` if defines\n",
      "        the legend's size).\n",
      "    \n",
      "    bbox_transform : None or :class:`matplotlib.transforms.Transform`\n",
      "        The transform for the bounding box (`bbox_to_anchor`). For a value\n",
      "        of ``None`` (default) the Axes'\n",
      "        :data:`~matplotlib.axes.Axes.transAxes` transform will be used.\n",
      "    \n",
      "    title : str or None\n",
      "        The legend's title. Default is no title (``None``).\n",
      "    \n",
      "    borderpad : float or None\n",
      "        The fractional whitespace inside the legend border.\n",
      "        Measured in font-size units.\n",
      "        Default is ``None`` which will take the value from the\n",
      "        ``legend.borderpad`` :data:`rcParam<matplotlib.rcParams>`.\n",
      "    \n",
      "    labelspacing : float or None\n",
      "        The vertical space between the legend entries.\n",
      "        Measured in font-size units.\n",
      "        Default is ``None`` which will take the value from the\n",
      "        ``legend.labelspacing`` :data:`rcParam<matplotlib.rcParams>`.\n",
      "    \n",
      "    handlelength : float or None\n",
      "        The length of the legend handles.\n",
      "        Measured in font-size units.\n",
      "        Default is ``None`` which will take the value from the\n",
      "        ``legend.handlelength`` :data:`rcParam<matplotlib.rcParams>`.\n",
      "    \n",
      "    handletextpad : float or None\n",
      "        The pad between the legend handle and text.\n",
      "        Measured in font-size units.\n",
      "        Default is ``None`` which will take the value from the\n",
      "        ``legend.handletextpad`` :data:`rcParam<matplotlib.rcParams>`.\n",
      "    \n",
      "    borderaxespad : float or None\n",
      "        The pad between the axes and legend border.\n",
      "        Measured in font-size units.\n",
      "        Default is ``None`` which will take the value from the\n",
      "        ``legend.borderaxespad`` :data:`rcParam<matplotlib.rcParams>`.\n",
      "    \n",
      "    columnspacing : float or None\n",
      "        The spacing between columns.\n",
      "        Measured in font-size units.\n",
      "        Default is ``None`` which will take the value from the\n",
      "        ``legend.columnspacing`` :data:`rcParam<matplotlib.rcParams>`.\n",
      "    \n",
      "    handler_map : dict or None\n",
      "        The custom dictionary mapping instances or types to a legend\n",
      "        handler. This `handler_map` updates the default handler map\n",
      "        found at :func:`matplotlib.legend.Legend.get_legend_handler_map`.\n",
      "    \n",
      "    Notes\n",
      "    -----\n",
      "    \n",
      "    Not all kinds of artist are supported by the legend command.\n",
      "    See :ref:`plotting-guide-legend` for details.\n",
      "    \n",
      "    Examples\n",
      "    --------\n",
      "    \n",
      "    .. plot:: mpl_examples/api/legend_demo.py\n",
      "\n"
     ]
    }
   ],
   "source": [
    "help(legend)"
   ]
  },
  {
   "cell_type": "code",
   "execution_count": 19,
   "metadata": {
    "collapsed": false
   },
   "outputs": [
    {
     "data": {
      "text/plain": [
       "array([ 0.  ,  0.01,  0.02,  0.03,  0.04,  0.05,  0.06,  0.07,  0.08,\n",
       "        0.09,  0.1 ,  0.11,  0.12,  0.13,  0.14,  0.15,  0.16,  0.17,\n",
       "        0.18,  0.19])"
      ]
     },
     "execution_count": 19,
     "metadata": {},
     "output_type": "execute_result"
    }
   ],
   "source": [
    "thr_keys"
   ]
  },
  {
   "cell_type": "code",
   "execution_count": 23,
   "metadata": {
    "collapsed": false
   },
   "outputs": [
    {
     "data": {
      "text/plain": [
       "array([  1.,   5.,   9.,  13.,  17.,  21.])"
      ]
     },
     "execution_count": 23,
     "metadata": {},
     "output_type": "execute_result"
    }
   ],
   "source": [
    "training_keys"
   ]
  },
  {
   "cell_type": "code",
   "execution_count": null,
   "metadata": {
    "collapsed": true
   },
   "outputs": [],
   "source": []
  }
 ],
 "metadata": {
  "kernelspec": {
   "display_name": "Python 2",
   "language": "python",
   "name": "python2"
  },
  "language_info": {
   "codemirror_mode": {
    "name": "ipython",
    "version": 2
   },
   "file_extension": ".py",
   "mimetype": "text/x-python",
   "name": "python",
   "nbconvert_exporter": "python",
   "pygments_lexer": "ipython2",
   "version": "2.7.11"
  }
 },
 "nbformat": 4,
 "nbformat_minor": 0
}
