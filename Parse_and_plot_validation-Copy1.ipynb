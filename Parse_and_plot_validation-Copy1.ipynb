{
 "cells": [
  {
   "cell_type": "code",
   "execution_count": 25,
   "metadata": {
    "collapsed": false
   },
   "outputs": [
    {
     "name": "stdout",
     "output_type": "stream",
     "text": [
      "Populating the interactive namespace from numpy and matplotlib\n"
     ]
    },
    {
     "data": {
      "text/plain": [
       "[u'seaborn-darkgrid',\n",
       " u'seaborn-notebook',\n",
       " u'classic',\n",
       " u'seaborn-ticks',\n",
       " u'grayscale',\n",
       " u'bmh',\n",
       " u'seaborn-talk',\n",
       " u'dark_background',\n",
       " u'ggplot',\n",
       " u'fivethirtyeight',\n",
       " u'seaborn-colorblind',\n",
       " u'seaborn-deep',\n",
       " u'seaborn-whitegrid',\n",
       " u'seaborn-bright',\n",
       " u'seaborn-poster',\n",
       " u'seaborn-muted',\n",
       " u'seaborn-paper',\n",
       " u'seaborn-white',\n",
       " u'seaborn-pastel',\n",
       " u'seaborn-dark',\n",
       " u'seaborn-dark-palette']"
      ]
     },
     "execution_count": 25,
     "metadata": {},
     "output_type": "execute_result"
    }
   ],
   "source": [
    "import csv\n",
    "import numpy as np\n",
    "import matplotlib.pyplot as plt\n",
    "import cPickle as pickle\n",
    "%pylab inline\n",
    "plt.style.available"
   ]
  },
  {
   "cell_type": "code",
   "execution_count": 26,
   "metadata": {
    "collapsed": false,
    "scrolled": false
   },
   "outputs": [
    {
     "name": "stdout",
     "output_type": "stream",
     "text": [
      "['TP', 'FP', 'FN', 'time_pt', 'rel_thr', 'training', 'file_no']\n",
      "seaborn-poster\n"
     ]
    },
    {
     "data": {
      "image/png": "[encoded data removed]",
      "text/plain": [
       "<matplotlib.figure.Figure at 0x112eeaa90>"
      ]
     },
     "metadata": {},
     "output_type": "display_data"
    }
   ],
   "source": [
    "path = '/Users/martin/Pictures/Live_mdf/'\n",
    "csvPath = path+\"out/\"\n",
    "X={}\n",
    "\n",
    "with open(csvPath+'outputData.csv', 'rb') as csvfile:\n",
    "    spamreader = csv.reader(csvfile,  dialect='excel')\n",
    "    for row in spamreader:\n",
    "        if row[0]=='TP':\n",
    "            print row\n",
    "            pass\n",
    "        else:\n",
    "            row=[float(x) for x in row]\n",
    "            TPFPFN=np.array(row[0:3])\n",
    "            tpt = row[3]\n",
    "            thr = row[4]\n",
    "            training = row[5]\n",
    "            fileno = row[6]\n",
    "            repeats = row[7]\n",
    "            #print row[0:3]\n",
    "            #decide order (average over all but first two dimesion later)\n",
    "            ref = [training,thr,tpt,fileno,repeats]\n",
    "            if ref[0] not in X:\n",
    "                X[ref[0]]={}\n",
    "            if ref[1] not in X[ref[0]]:\n",
    "                X[ref[0]][ref[1]]={}\n",
    "            if ref[2] not in X[ref[0]][ref[1]]:\n",
    "                X[ref[0]][ref[1]][ref[2]]={}\n",
    "            if ref[3] not in X[ref[0]][ref[1]][ref[2]]:\n",
    "                X[ref[0]][ref[1]][ref[2]][ref[3]]={}\n",
    "            if row[7] not in X[ref[0]][ref[1]][ref[2]][ref[3]]:\n",
    "                X[ref[0]][ref[1]][ref[2]][ref[3]][ref[4]]=TPFPFN\n",
    "    #go through and average over various groups\n",
    "st_counter=14\n",
    "styles=plt.style.available\n",
    "plt.style.use(styles[st_counter])\n",
    "#matplotlib.rcParams['lines.markersize']=10\n",
    "print(styles[st_counter])\n",
    "st_counter+=1\n",
    "\n",
    "figure(figsize=(5,5.5))\n",
    "training_keys=sort(X.keys())\n",
    "color=(0.9,0.1,0.1)\n",
    "col_count=float(10)\n",
    "for training in training_keys:\n",
    "    col_count=col_count-1\n",
    "    if training >1000:\n",
    "        break\n",
    "    P=[]\n",
    "    R=[]\n",
    "    thr_keys=sort(X[training].keys())\n",
    "    \n",
    "    for thr in thr_keys[::1]:\n",
    "        count=0\n",
    "        acc=np.zeros((3))\n",
    "        for x1 in X[training][thr]:\n",
    "            if x1==0 or x1==14:\n",
    "                pass\n",
    "            else:\n",
    "                for x2 in X[training][thr][x1]:\n",
    "                    for x3 in X[training][thr][x1][x2]:\n",
    "                        #if x1>4:\n",
    "                            acc+=X[training][thr][x1][x2][x3]\n",
    "                            count+=1\n",
    "        acc=acc/count\n",
    "        X[training][thr]=acc\n",
    "        TP=acc[0]\n",
    "        FP=acc[1]\n",
    "        TN=acc[2]\n",
    "        precision=TP/(TP+FP)\n",
    "        recall=TP/(TP+TN)\n",
    "        P.append(precision)\n",
    "        R.append(recall)\n",
    "    #print (P,R)\n",
    "    color=tuple([col_count/10,color[1],col_count/10])\n",
    "    h = plot(R, P,'x-',color=color)\n",
    "    #print str(training)\n",
    "    h[0].set_label(str(training))\n",
    "    #legend(str(training))\n",
    "    axis((0,1,0,1))\n",
    "    legend(bbox_to_anchor=(1.35, 1.00))\n",
    "savefig(path+'figure.png',bbox_inches='tight')\n",
    "    \n"
   ]
  },
  {
   "cell_type": "code",
   "execution_count": 27,
   "metadata": {
    "collapsed": false
   },
   "outputs": [],
   "source": [
    "with open(path+\"random_reference.pickle\",'wb') as r_file:\n",
    "    pickle.dump([R,P],r_file)"
   ]
  },
  {
   "cell_type": "code",
   "execution_count": 19,
   "metadata": {
    "collapsed": false
   },
   "outputs": [
    {
     "name": "stdout",
     "output_type": "stream",
     "text": [
      "Help on built-in function dump in module cPickle:\n",
      "\n",
      "dump(...)\n",
      "    dump(obj, file, protocol=0) -- Write an object in pickle format to the given file.\n",
      "    \n",
      "    See the Pickler docstring for the meaning of optional argument proto.\n",
      "\n"
     ]
    }
   ],
   "source": [
    "help(pickle.dump)"
   ]
  },
  {
   "cell_type": "code",
   "execution_count": 49,
   "metadata": {
    "collapsed": false
   },
   "outputs": [
    {
     "ename": "NameError",
     "evalue": "name 'thr_keys' is not defined",
     "output_type": "error",
     "traceback": [
      "\u001b[0;31m---------------------------------------------------------------------------\u001b[0m",
      "\u001b[0;31mNameError\u001b[0m                                 Traceback (most recent call last)",
      "\u001b[0;32m<ipython-input-49-718fee7ccdc0>\u001b[0m in \u001b[0;36m<module>\u001b[0;34m()\u001b[0m\n\u001b[0;32m----> 1\u001b[0;31m \u001b[0mthr_keys\u001b[0m\u001b[0;34m\u001b[0m\u001b[0m\n\u001b[0m",
      "\u001b[0;31mNameError\u001b[0m: name 'thr_keys' is not defined"
     ]
    }
   ],
   "source": [
    "thr_keys"
   ]
  },
  {
   "cell_type": "code",
   "execution_count": 34,
   "metadata": {
    "collapsed": false
   },
   "outputs": [
    {
     "name": "stdout",
     "output_type": "stream",
     "text": [
      "Help on function legend in module matplotlib.pyplot:\n",
      "\n",
      "legend(*args, **kwargs)\n",
      "    Places a legend on the axes.\n",
      "    \n",
      "    To make a legend for lines which already exist on the axes\n",
      "    (via plot for instance), simply call this function with an iterable\n",
      "    of strings, one for each legend item. For example::\n",
      "    \n",
      "        ax.plot([1, 2, 3])\n",
      "        ax.legend(['A simple line'])\n",
      "    \n",
      "    However, in order to keep the \"label\" and the legend element\n",
      "    instance together, it is preferable to specify the label either at\n",
      "    artist creation, or by calling the\n",
      "    :meth:`~matplotlib.artist.Artist.set_label` method on the artist::\n",
      "    \n",
      "        line, = ax.plot([1, 2, 3], label='Inline label')\n",
      "        # Overwrite the label by calling the method.\n",
      "        line.set_label('Label via method')\n",
      "        ax.legend()\n",
      "    \n",
      "    Specific lines can be excluded from the automatic legend element\n",
      "    selection by defining a label starting with an underscore.\n",
      "    This is default for all artists, so calling :meth:`legend` without\n",
      "    any arguments and without setting the labels manually will result in\n",
      "    no legend being drawn.\n",
      "    \n",
      "    For full control of which artists have a legend entry, it is possible\n",
      "    to pass an iterable of legend artists followed by an iterable of\n",
      "    legend labels respectively::\n",
      "    \n",
      "       legend((line1, line2, line3), ('label1', 'label2', 'label3'))\n",
      "    \n",
      "    Parameters\n",
      "    ----------\n",
      "    loc : int or string or pair of floats, default: 'upper right'\n",
      "        The location of the legend. Possible codes are:\n",
      "    \n",
      "            ===============   =============\n",
      "            Location String   Location Code\n",
      "            ===============   =============\n",
      "            'best'            0\n",
      "            'upper right'     1\n",
      "            'upper left'      2\n",
      "            'lower left'      3\n",
      "            'lower right'     4\n",
      "            'right'           5\n",
      "            'center left'     6\n",
      "            'center right'    7\n",
      "            'lower center'    8\n",
      "            'upper center'    9\n",
      "            'center'          10\n",
      "            ===============   =============\n",
      "    \n",
      "    \n",
      "        Alternatively can be a 2-tuple giving ``x, y`` of the lower-left\n",
      "        corner of the legend in axes coordinates (in which case\n",
      "        ``bbox_to_anchor`` will be ignored).\n",
      "    \n",
      "    bbox_to_anchor : :class:`matplotlib.transforms.BboxBase` instance                          or tuple of floats\n",
      "        Specify any arbitrary location for the legend in `bbox_transform`\n",
      "        coordinates (default Axes coordinates).\n",
      "    \n",
      "        For example, to put the legend's upper right hand corner in the\n",
      "        center of the axes the following keywords can be used::\n",
      "    \n",
      "           loc='upper right', bbox_to_anchor=(0.5, 0.5)\n",
      "    \n",
      "    ncol : integer\n",
      "        The number of columns that the legend has. Default is 1.\n",
      "    \n",
      "    prop : None or :class:`matplotlib.font_manager.FontProperties` or dict\n",
      "        The font properties of the legend. If None (default), the current\n",
      "        :data:`matplotlib.rcParams` will be used.\n",
      "    \n",
      "    fontsize : int or float or {'xx-small', 'x-small', 'small', 'medium',                   'large', 'x-large', 'xx-large'}\n",
      "        Controls the font size of the legend. If the value is numeric the\n",
      "        size will be the absolute font size in points. String values are\n",
      "        relative to the current default font size. This argument is only\n",
      "        used if `prop` is not specified.\n",
      "    \n",
      "    numpoints : None or int\n",
      "        The number of marker points in the legend when creating a legend\n",
      "        entry for a line/:class:`matplotlib.lines.Line2D`.\n",
      "        Default is ``None`` which will take the value from the\n",
      "        ``legend.numpoints`` :data:`rcParam<matplotlib.rcParams>`.\n",
      "    \n",
      "    scatterpoints : None or int\n",
      "        The number of marker points in the legend when creating a legend\n",
      "        entry for a scatter plot/\n",
      "        :class:`matplotlib.collections.PathCollection`.\n",
      "        Default is ``None`` which will take the value from the\n",
      "        ``legend.scatterpoints`` :data:`rcParam<matplotlib.rcParams>`.\n",
      "    \n",
      "    scatteryoffsets : iterable of floats\n",
      "        The vertical offset (relative to the font size) for the markers\n",
      "        created for a scatter plot legend entry. 0.0 is at the base the\n",
      "        legend text, and 1.0 is at the top. To draw all markers at the\n",
      "        same height, set to ``[0.5]``. Default ``[0.375, 0.5, 0.3125]``.\n",
      "    \n",
      "    markerscale : None or int or float\n",
      "        The relative size of legend markers compared with the originally\n",
      "        drawn ones. Default is ``None`` which will take the value from\n",
      "        the ``legend.markerscale`` :data:`rcParam <matplotlib.rcParams>`.\n",
      "    \n",
      "    *markerfirst*: [ *True* | *False* ]\n",
      "        if *True*, legend marker is placed to the left of the legend label\n",
      "        if *False*, legend marker is placed to the right of the legend\n",
      "        label\n",
      "    \n",
      "    frameon : None or bool\n",
      "        Control whether a frame should be drawn around the legend.\n",
      "        Default is ``None`` which will take the value from the\n",
      "        ``legend.frameon`` :data:`rcParam<matplotlib.rcParams>`.\n",
      "    \n",
      "    fancybox : None or bool\n",
      "        Control whether round edges should be enabled around\n",
      "        the :class:`~matplotlib.patches.FancyBboxPatch` which\n",
      "        makes up the legend's background.\n",
      "        Default is ``None`` which will take the value from the\n",
      "        ``legend.fancybox`` :data:`rcParam<matplotlib.rcParams>`.\n",
      "    \n",
      "    shadow : None or bool\n",
      "        Control whether to draw a shadow behind the legend.\n",
      "        Default is ``None`` which will take the value from the\n",
      "        ``legend.shadow`` :data:`rcParam<matplotlib.rcParams>`.\n",
      "    \n",
      "    framealpha : None or float\n",
      "        Control the alpha transparency of the legend's frame.\n",
      "        Default is ``None`` which will take the value from the\n",
      "        ``legend.framealpha`` :data:`rcParam<matplotlib.rcParams>`.\n",
      "    \n",
      "    mode : {\"expand\", None}\n",
      "        If `mode` is set to ``\"expand\"`` the legend will be horizontally\n",
      "        expanded to fill the axes area (or `bbox_to_anchor` if defines\n",
      "        the legend's size).\n",
      "    \n",
      "    bbox_transform : None or :class:`matplotlib.transforms.Transform`\n",
      "        The transform for the bounding box (`bbox_to_anchor`). For a value\n",
      "        of ``None`` (default) the Axes'\n",
      "        :data:`~matplotlib.axes.Axes.transAxes` transform will be used.\n",
      "    \n",
      "    title : str or None\n",
      "        The legend's title. Default is no title (``None``).\n",
      "    \n",
      "    borderpad : float or None\n",
      "        The fractional whitespace inside the legend border.\n",
      "        Measured in font-size units.\n",
      "        Default is ``None`` which will take the value from the\n",
      "        ``legend.borderpad`` :data:`rcParam<matplotlib.rcParams>`.\n",
      "    \n",
      "    labelspacing : float or None\n",
      "        The vertical space between the legend entries.\n",
      "        Measured in font-size units.\n",
      "        Default is ``None`` which will take the value from the\n",
      "        ``legend.labelspacing`` :data:`rcParam<matplotlib.rcParams>`.\n",
      "    \n",
      "    handlelength : float or None\n",
      "        The length of the legend handles.\n",
      "        Measured in font-size units.\n",
      "        Default is ``None`` which will take the value from the\n",
      "        ``legend.handlelength`` :data:`rcParam<matplotlib.rcParams>`.\n",
      "    \n",
      "    handletextpad : float or None\n",
      "        The pad between the legend handle and text.\n",
      "        Measured in font-size units.\n",
      "        Default is ``None`` which will take the value from the\n",
      "        ``legend.handletextpad`` :data:`rcParam<matplotlib.rcParams>`.\n",
      "    \n",
      "    borderaxespad : float or None\n",
      "        The pad between the axes and legend border.\n",
      "        Measured in font-size units.\n",
      "        Default is ``None`` which will take the value from the\n",
      "        ``legend.borderaxespad`` :data:`rcParam<matplotlib.rcParams>`.\n",
      "    \n",
      "    columnspacing : float or None\n",
      "        The spacing between columns.\n",
      "        Measured in font-size units.\n",
      "        Default is ``None`` which will take the value from the\n",
      "        ``legend.columnspacing`` :data:`rcParam<matplotlib.rcParams>`.\n",
      "    \n",
      "    handler_map : dict or None\n",
      "        The custom dictionary mapping instances or types to a legend\n",
      "        handler. This `handler_map` updates the default handler map\n",
      "        found at :func:`matplotlib.legend.Legend.get_legend_handler_map`.\n",
      "    \n",
      "    Notes\n",
      "    -----\n",
      "    \n",
      "    Not all kinds of artist are supported by the legend command.\n",
      "    See :ref:`plotting-guide-legend` for details.\n",
      "    \n",
      "    Examples\n",
      "    --------\n",
      "    \n",
      "    .. plot:: mpl_examples/api/legend_demo.py\n",
      "\n"
     ]
    }
   ],
   "source": [
    "help(legend)"
   ]
  },
  {
   "cell_type": "code",
   "execution_count": null,
   "metadata": {
    "collapsed": true
   },
   "outputs": [],
   "source": []
  }
 ],
 "metadata": {
  "kernelspec": {
   "display_name": "Python 2",
   "language": "python",
   "name": "python2"
  },
  "language_info": {
   "codemirror_mode": {
    "name": "ipython",
    "version": 2
   },
   "file_extension": ".py",
   "mimetype": "text/x-python",
   "name": "python",
   "nbconvert_exporter": "python",
   "pygments_lexer": "ipython2",
   "version": "2.7.11"
  }
 },
 "nbformat": 4,
 "nbformat_minor": 0
}
